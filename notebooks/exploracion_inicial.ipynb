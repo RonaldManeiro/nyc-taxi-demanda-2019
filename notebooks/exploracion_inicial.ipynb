{
 "cells": [
  {
   "cell_type": "markdown",
   "id": "ff43459d",
   "metadata": {},
   "source": [
    "# Etapa 1 - Ver tablas \n",
    "**Inspeccion rapida del .sqlite**"
   ]
  },
  {
   "cell_type": "code",
   "execution_count": null,
   "id": "70eedb82",
   "metadata": {},
   "outputs": [],
   "source": [
    "import os \n",
    "import sqlite3\n",
    "\n",
    "# Ruta de la base de datos SQLite\n",
    "BASE_DIR = os.path.dirname(os.getcwd())  # Sube desde /notebooks a la raíz\n",
    "db_path = os.path.join(BASE_DIR, \"data\", \"raw\", \"2019-12.sqlite\")\n",
    "\n",
    "# Conexión a la base de datos SQLite\n",
    "conn = sqlite3.connect(db_path)\n",
    "cursor = conn.cursor()\n",
    "\n",
    "# Litar las tablas existentes \n",
    "cursor.execute(\"SELECT name FROM sqlite_master WHERE type='table';\")\n",
    "tables = cursor.fetchall()\n",
    "\n",
    "print(\"Tablas en la base de datos:\")\n",
    "for t in tables:\n",
    "    print(\"-\", t[0])\n",
    "\n",
    "# Cerrar la conexión\n",
    "conn.close()\n"
   ]
  },
  {
   "cell_type": "markdown",
   "id": "8d10216d",
   "metadata": {},
   "source": [
    "# Etapa 2 - Ver columnas y tipos\n",
    "**Revisamos la estructura de la tabla**\n"
   ]
  },
  {
   "cell_type": "code",
   "execution_count": null,
   "id": "88d90b5f",
   "metadata": {},
   "outputs": [],
   "source": [
    "import os \n",
    "import sqlite3\n",
    "\n",
    "# Ruta de la base de datos SQLite\n",
    "BASE_DIR = os.path.dirname(os.getcwd())  # Sube desde /notebooks a la raíz\n",
    "db_path = os.path.join(BASE_DIR, \"data\", \"raw\", \"2019-12.sqlite\")\n",
    "# Conexión a la base de datos SQLite\n",
    "conn = sqlite3.connect(db_path)\n",
    "cursor = conn.cursor()\n",
    "\n",
    "# Ver columnas de la tabla tripdata\n",
    "cursor.execute(\"PRAGMA table_info(tripdata);\")\n",
    "cols = cursor.fetchall()\n",
    "\n",
    "print(\"Columnas en tripdata:\")\n",
    "for col in cols:\n",
    "    # col = (cid, name, type, notnull, dflt_value, pk)\n",
    "    print(f\"- {col[1]} ({col[2]})\")\n",
    "\n",
    "conn.close()"
   ]
  },
  {
   "cell_type": "markdown",
   "id": "2fa632a2",
   "metadata": {},
   "source": [
    "# Etapa 3 - Revisar Zonas \n",
    "**Para saber como estan codificadas las zonas**\n"
   ]
  },
  {
   "cell_type": "code",
   "execution_count": null,
   "id": "ead8476f",
   "metadata": {},
   "outputs": [],
   "source": [
    "import os \n",
    "import pandas as pd\n",
    "\n",
    "# Ruta del archivo de zonas \n",
    "BASE_DIR = os.path.dirname(os.getcwd())  \n",
    "zones_path = os.path.join(BASE_DIR, \"data\", \"taxi_zone_lookup.csv\")\n",
    "\n",
    "# Leer el archivo CSV\n",
    "zones = pd.read_csv(zones_path)\n",
    "\n",
    "# 2️⃣ Revisar estructura\n",
    "print(\"\\n📌 Primeras filas de taxi_zone_lookup.csv:\")\n",
    "print(zones.head())\n",
    "\n",
    "print(\"\\n📋 Columnas disponibles:\")\n",
    "print(zones.columns.tolist())\n",
    "\n",
    "# 3️⃣ Revisar tipos de datos\n",
    "print(\"\\n🧾 Tipos de datos:\")\n",
    "print(zones.dtypes)\n",
    "\n",
    "# 4️⃣ Comprobar si hay nulos o duplicados\n",
    "print(\"\\n❓ Nulos por columna:\")\n",
    "print(zones.isna().sum())\n",
    "\n",
    "print(\"\\n🔁 Duplicados por LocationID:\")\n",
    "print(zones['LocationID'].duplicated().sum())\n"
   ]
  },
  {
   "cell_type": "code",
   "execution_count": null,
   "id": "5949d827",
   "metadata": {},
   "outputs": [],
   "source": [
    "import os \n",
    "# ✅ Etapa 3: Preparar tabla de zonas (lookup)\n",
    "BASE_DIR = os.path.dirname(os.getcwd())  \n",
    "zones_path = os.path.join(BASE_DIR, \"data\", \"taxi_zone_lookup.csv\")\n",
    "zones = pd.read_csv(zones_path)\n",
    "\n",
    "# Nos quedamos con las columnas necesarias\n",
    "zones = zones[['LocationID', 'Borough', 'Zone']]\n",
    "\n",
    "# Verificamos el resultado final\n",
    "print(\"\\n✅ Tabla de zonas (lookup) lista:\")\n",
    "print(zones.head(10).to_string(index=False))"
   ]
  },
  {
   "cell_type": "markdown",
   "id": "a6df2ed1",
   "metadata": {},
   "source": [
    "# Etapa 4 - Exploracion basica y conteos\n",
    "**Top zonas pickup/dropoff con nombres**\n"
   ]
  },
  {
   "cell_type": "code",
   "execution_count": null,
   "id": "a4c1b7cd",
   "metadata": {},
   "outputs": [],
   "source": [
    "import sqlite3\n",
    "import pandas as pd\n",
    "\n",
    "# Ruta de la base de datos SQLite\n",
    "BASE_DIR = os.path.dirname(os.getcwd())  # Sube desde /notebooks a la raíz\n",
    "db_path = os.path.join(BASE_DIR, \"data\", \"raw\", \"2019-12.sqlite\")\n",
    "\n",
    "# Conexión a la base de datos SQLite\n",
    "conn = sqlite3.connect(db_path)\n",
    "\n",
    "# Leemos una muestra de datos de la tabla tripdata\n",
    "query = \"SELECT * FROM tripdata LIMIT 100000;\"\n",
    "df = pd.read_sql_query(query, conn)\n",
    "\n",
    "# Cerramos la conexión\n",
    "conn.close()\n",
    "\n",
    "# Verificamos la estructura del DataFrame\n",
    "print(\"\\n📌 Columnas disponibles en tripdata:\")\n",
    "print(df.columns.tolist())\n",
    "\n",
    "print(\"\\n Primeras filas de tripdata:\")\n",
    "print(df.head())\n"
   ]
  },
  {
   "cell_type": "code",
   "execution_count": null,
   "id": "d4639701",
   "metadata": {},
   "outputs": [],
   "source": [
    "# 🧼 Convertimos pulocationid y dolocationid a enteros\n",
    "df['pulocationid'] = df['pulocationid'].astype(int)\n",
    "df['dolocationid'] = df['dolocationid'].astype(int)\n",
    "\n",
    "# 👀 Verificamos rápidamente\n",
    "print(df[['pulocationid', 'dolocationid']].head())\n",
    "print(df[['pulocationid', 'dolocationid']].dtypes)"
   ]
  },
  {
   "cell_type": "code",
   "execution_count": null,
   "id": "8b58b3eb",
   "metadata": {},
   "outputs": [],
   "source": [
    "# Conteos Top de zonas de pickup y dropoff\n",
    "\n",
    "# Top zonas de recogida (pickup)\n",
    "pickup_counts = (\n",
    "    df['pulocationid']\n",
    "    .value_counts()\n",
    "    .reset_index()\n",
    "    .rename(columns={'index': 'LocationID', 'pulocationid': 'LocationID'})\n",
    ")\n",
    "\n",
    "# Top zonas de entrega (dropoff)\n",
    "dropoff_counts = (\n",
    "    df['dolocationid']\n",
    "    .value_counts()\n",
    "    .reset_index()\n",
    "    .rename(columns={'index': 'LocationID', 'dolocationid': 'LocationID'})\n",
    ")\n",
    "\n",
    "print(\"🚖 Top 15 zonas de recogida (pickup) [IDs]:\")\n",
    "print(pickup_counts.head(15).to_string(index=False))\n",
    "\n",
    "print(\"\\n📍 Top 15 zonas de entrega (dropoff) [IDs]:\")\n",
    "print(dropoff_counts.head(15).to_string(index=False))"
   ]
  }
 ],
 "metadata": {
  "kernelspec": {
   "display_name": "Python 3",
   "language": "python",
   "name": "python3"
  },
  "language_info": {
   "codemirror_mode": {
    "name": "ipython",
    "version": 3
   },
   "file_extension": ".py",
   "mimetype": "text/x-python",
   "name": "python",
   "nbconvert_exporter": "python",
   "pygments_lexer": "ipython3",
   "version": "3.13.1"
  }
 },
 "nbformat": 4,
 "nbformat_minor": 5
}
