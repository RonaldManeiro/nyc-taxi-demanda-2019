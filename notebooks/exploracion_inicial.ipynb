{
 "cells": [
  {
   "cell_type": "markdown",
   "id": "ff43459d",
   "metadata": {},
   "source": [
    "# Etapa 1 - Ver tablas \n",
    "**Inspeccion rapida del .sqlite**"
   ]
  },
  {
   "cell_type": "code",
   "execution_count": null,
   "id": "955aed40",
   "metadata": {},
   "outputs": [],
   "source": [
    "import sqlite3\n",
    "\n",
    "# Ruta de la base de datos SQLite\n",
    "db_path = r\"C:\\Users\\Laptop\\Desktop\\Proyecto compu 2\\2019\\2019-12.sqlite\"\n",
    "\n",
    "# Conexión a la base de datos SQLite\n",
    "conn = sqlite3.connect(db_path)\n",
    "cursor = conn.cursor()\n",
    "\n",
    "# Litar las tablas existentes \n",
    "cursor.execute(\"SELECT name FROM sqlite_master WHERE type='table';\")\n",
    "tables = cursor.fetchall()\n",
    "\n",
    "print(\"Tablas en la base de datos:\")\n",
    "for t in tables:\n",
    "    print(\"-\", t[0])\n",
    "\n",
    "# Cerrar la conexión\n",
    "conn.close()\n"
   ]
  },
  {
   "cell_type": "markdown",
   "id": "8d10216d",
   "metadata": {},
   "source": [
    "# Etapa 2 - Ver columnas y tipos\n",
    "**Revisamos la estructura de la tabla**\n"
   ]
  },
  {
   "cell_type": "code",
   "execution_count": 9,
   "id": "88d90b5f",
   "metadata": {},
   "outputs": [
    {
     "name": "stdout",
     "output_type": "stream",
     "text": [
      "Columnas en tripdata:\n",
      "- vendorid (FLOAT)\n",
      "- tpep_pickup_datetime (DATETIME)\n",
      "- tpep_dropoff_datetime (DATETIME)\n",
      "- passenger_count (FLOAT)\n",
      "- trip_distance (FLOAT)\n",
      "- ratecodeid (FLOAT)\n",
      "- store_and_fwd_flag (TEXT)\n",
      "- pulocationid (FLOAT)\n",
      "- dolocationid (FLOAT)\n",
      "- payment_type (FLOAT)\n",
      "- fare_amount (FLOAT)\n",
      "- extra (FLOAT)\n",
      "- mta_tax (FLOAT)\n",
      "- tip_amount (FLOAT)\n",
      "- tolls_amount (FLOAT)\n",
      "- improvement_surcharge (FLOAT)\n",
      "- total_amount (FLOAT)\n",
      "- congestion_surcharge (FLOAT)\n"
     ]
    }
   ],
   "source": [
    "import sqlite3\n",
    "\n",
    "# Ruta de la base de datos SQLite\n",
    "db_path = r\"C:\\Users\\Laptop\\Desktop\\Proyecto compu 2\\2019\\2019-12.sqlite\"\n",
    "\n",
    "# Conexión a la base de datos SQLite\n",
    "conn = sqlite3.connect(db_path)\n",
    "cursor = conn.cursor()\n",
    "\n",
    "# Ver columnas de la tabla tripdata\n",
    "cursor.execute(\"PRAGMA table_info(tripdata);\")\n",
    "cols = cursor.fetchall()\n",
    "\n",
    "print(\"Columnas en tripdata:\")\n",
    "for col in cols:\n",
    "    # col = (cid, name, type, notnull, dflt_value, pk)\n",
    "    print(f\"- {col[1]} ({col[2]})\")\n",
    "\n",
    "conn.close()"
   ]
  },
  {
   "cell_type": "markdown",
   "id": "2fa632a2",
   "metadata": {},
   "source": [
    "# Etapa 3 - Revisar Zonas \n",
    "**Para saber como estan codificadas las zonas**\n"
   ]
  },
  {
   "cell_type": "code",
   "execution_count": 32,
   "id": "ead8476f",
   "metadata": {},
   "outputs": [
    {
     "name": "stdout",
     "output_type": "stream",
     "text": [
      "\n",
      "📌 Primeras filas de taxi_zone_lookup.csv:\n",
      "   LocationID        Borough                     Zone service_zone\n",
      "0           1            EWR           Newark Airport          EWR\n",
      "1           2         Queens              Jamaica Bay    Boro Zone\n",
      "2           3          Bronx  Allerton/Pelham Gardens    Boro Zone\n",
      "3           4      Manhattan            Alphabet City  Yellow Zone\n",
      "4           5  Staten Island            Arden Heights    Boro Zone\n",
      "\n",
      "📋 Columnas disponibles:\n",
      "['LocationID', 'Borough', 'Zone', 'service_zone']\n",
      "\n",
      "🧾 Tipos de datos:\n",
      "LocationID       int64\n",
      "Borough         object\n",
      "Zone            object\n",
      "service_zone    object\n",
      "dtype: object\n",
      "\n",
      "❓ Nulos por columna:\n",
      "LocationID      0\n",
      "Borough         1\n",
      "Zone            1\n",
      "service_zone    2\n",
      "dtype: int64\n",
      "\n",
      "🔁 Duplicados por LocationID:\n",
      "0\n"
     ]
    }
   ],
   "source": [
    "import pandas as pd\n",
    "\n",
    "# Ruta del archivo de zonas \n",
    "zones_path = r\"C:\\Users\\Laptop\\Desktop\\nyc-taxi-demanda-2019\\nyc-taxi-demanda-2019\\data\\taxi_zone_lookup.csv\"\n",
    "\n",
    "# Leer el archivo CSV\n",
    "zones = pd.read_csv(zones_path)\n",
    "\n",
    "# 2️⃣ Revisar estructura\n",
    "print(\"\\n📌 Primeras filas de taxi_zone_lookup.csv:\")\n",
    "print(zones.head())\n",
    "\n",
    "print(\"\\n📋 Columnas disponibles:\")\n",
    "print(zones.columns.tolist())\n",
    "\n",
    "# 3️⃣ Revisar tipos de datos\n",
    "print(\"\\n🧾 Tipos de datos:\")\n",
    "print(zones.dtypes)\n",
    "\n",
    "# 4️⃣ Comprobar si hay nulos o duplicados\n",
    "print(\"\\n❓ Nulos por columna:\")\n",
    "print(zones.isna().sum())\n",
    "\n",
    "print(\"\\n🔁 Duplicados por LocationID:\")\n",
    "print(zones['LocationID'].duplicated().sum())\n"
   ]
  },
  {
   "cell_type": "code",
   "execution_count": 33,
   "id": "5949d827",
   "metadata": {},
   "outputs": [
    {
     "name": "stdout",
     "output_type": "stream",
     "text": [
      "\n",
      "✅ Tabla de zonas (lookup) lista:\n",
      " LocationID       Borough                    Zone\n",
      "          1           EWR          Newark Airport\n",
      "          2        Queens             Jamaica Bay\n",
      "          3         Bronx Allerton/Pelham Gardens\n",
      "          4     Manhattan           Alphabet City\n",
      "          5 Staten Island           Arden Heights\n",
      "          6 Staten Island Arrochar/Fort Wadsworth\n",
      "          7        Queens                 Astoria\n",
      "          8        Queens            Astoria Park\n",
      "          9        Queens              Auburndale\n",
      "         10        Queens            Baisley Park\n"
     ]
    }
   ],
   "source": [
    "# ✅ Etapa 3: Preparar tabla de zonas (lookup)\n",
    "zones_path = r\"C:\\Users\\Laptop\\Desktop\\nyc-taxi-demanda-2019\\nyc-taxi-demanda-2019\\data\\taxi_zone_lookup.csv\"\n",
    "zones = pd.read_csv(zones_path)\n",
    "\n",
    "# Nos quedamos con las columnas necesarias\n",
    "zones = zones[['LocationID', 'Borough', 'Zone']]\n",
    "\n",
    "# Verificamos el resultado final\n",
    "print(\"\\n✅ Tabla de zonas (lookup) lista:\")\n",
    "print(zones.head(10).to_string(index=False))"
   ]
  },
  {
   "cell_type": "markdown",
   "id": "a6df2ed1",
   "metadata": {},
   "source": [
    "# Etapa 4 - Exploracion basica y conteos\n",
    "**Top zonas pickup/dropoff con nombres**\n"
   ]
  },
  {
   "cell_type": "code",
   "execution_count": null,
   "id": "a4c1b7cd",
   "metadata": {},
   "outputs": [],
   "source": [
    "import sqlite3\n",
    "import pandas as pd\n",
    "\n",
    "# Ruta de la base de datos SQLite\n",
    "db_path = r\"C:\\Users\\Laptop\\Desktop\\Proyecto compu 2\\2019\\2019-12.sqlite\"\n",
    "\n",
    "# Conexión a la base de datos SQLite\n",
    "conn = sqlite3.connect(db_path)\n",
    "\n",
    "# Leemos una muestra de datos de la tabla tripdata\n",
    "query = \"SELECT * FROM tripdata LIMIT 100000;\"\n",
    "df = pd.read_sql_query(query, conn)\n",
    "\n",
    "# Cerramos la conexión\n",
    "conn.close()\n",
    "\n",
    "# Verificamos la estructura del DataFrame\n",
    "print(\"\\n📌 Columnas disponibles en tripdata:\")\n",
    "print(df.columns.tolist())\n",
    "\n",
    "print(\"\\n Primeras filas de tripdata:\")\n",
    "print(df.head())\n"
   ]
  },
  {
   "cell_type": "code",
   "execution_count": 35,
   "id": "d4639701",
   "metadata": {},
   "outputs": [
    {
     "name": "stdout",
     "output_type": "stream",
     "text": [
      "   pulocationid  dolocationid\n",
      "0           142           116\n",
      "1           145           145\n",
      "2           145           145\n",
      "3           138            25\n",
      "4           161           237\n",
      "pulocationid    int64\n",
      "dolocationid    int64\n",
      "dtype: object\n"
     ]
    }
   ],
   "source": [
    "# 🧼 Convertimos pulocationid y dolocationid a enteros\n",
    "df['pulocationid'] = df['pulocationid'].astype(int)\n",
    "df['dolocationid'] = df['dolocationid'].astype(int)\n",
    "\n",
    "# 👀 Verificamos rápidamente\n",
    "print(df[['pulocationid', 'dolocationid']].head())\n",
    "print(df[['pulocationid', 'dolocationid']].dtypes)"
   ]
  },
  {
   "cell_type": "code",
   "execution_count": 39,
   "id": "8b58b3eb",
   "metadata": {},
   "outputs": [
    {
     "name": "stdout",
     "output_type": "stream",
     "text": [
      "🚖 Top 15 zonas de recogida (pickup) [IDs]:\n",
      " LocationID  count\n",
      "        186   4798\n",
      "        132   4450\n",
      "        230   4028\n",
      "         79   3594\n",
      "         48   3523\n",
      "        237   3185\n",
      "        162   3156\n",
      "        161   3152\n",
      "        236   3068\n",
      "        239   2803\n",
      "         68   2732\n",
      "        142   2700\n",
      "        163   2687\n",
      "        138   2625\n",
      "        170   2584\n",
      "\n",
      "📍 Top 15 zonas de entrega (dropoff) [IDs]:\n",
      " LocationID  count\n",
      "        230   3687\n",
      "        236   3437\n",
      "        186   3303\n",
      "         48   3215\n",
      "        161   3170\n",
      "        237   3133\n",
      "        246   3020\n",
      "         79   2677\n",
      "        142   2673\n",
      "        239   2642\n",
      "        170   2561\n",
      "         68   2529\n",
      "        141   2397\n",
      "        163   2337\n",
      "        234   2109\n"
     ]
    }
   ],
   "source": [
    "# Conteos Top de zonas de pickup y dropoff\n",
    "\n",
    "# Top zonas de recogida (pickup)\n",
    "pickup_counts = (\n",
    "    df['pulocationid']\n",
    "    .value_counts()\n",
    "    .reset_index()\n",
    "    .rename(columns={'index': 'LocationID', 'pulocationid': 'LocationID'})\n",
    ")\n",
    "\n",
    "# Top zonas de entrega (dropoff)\n",
    "dropoff_counts = (\n",
    "    df['dolocationid']\n",
    "    .value_counts()\n",
    "    .reset_index()\n",
    "    .rename(columns={'index': 'LocationID', 'dolocationid': 'LocationID'})\n",
    ")\n",
    "\n",
    "print(\"🚖 Top 15 zonas de recogida (pickup) [IDs]:\")\n",
    "print(pickup_counts.head(15).to_string(index=False))\n",
    "\n",
    "print(\"\\n📍 Top 15 zonas de entrega (dropoff) [IDs]:\")\n",
    "print(dropoff_counts.head(15).to_string(index=False))"
   ]
  }
 ],
 "metadata": {
  "kernelspec": {
   "display_name": "Python 3",
   "language": "python",
   "name": "python3"
  },
  "language_info": {
   "codemirror_mode": {
    "name": "ipython",
    "version": 3
   },
   "file_extension": ".py",
   "mimetype": "text/x-python",
   "name": "python",
   "nbconvert_exporter": "python",
   "pygments_lexer": "ipython3",
   "version": "3.13.1"
  }
 },
 "nbformat": 4,
 "nbformat_minor": 5
}
