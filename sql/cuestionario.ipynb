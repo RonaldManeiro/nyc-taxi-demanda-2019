{
 "cells": [
  {
   "cell_type": "markdown",
   "id": "1544b9b7",
   "metadata": {},
   "source": [
    "consulta 1: Calcula la distancia promedio y el tiempo promedio de viaje en minutos para todos los viajes realizados en diciembre 2019"
   ]
  },
  {
   "cell_type": "code",
   "execution_count": 3,
   "id": "b11f4f61",
   "metadata": {},
   "outputs": [
    {
     "name": "stdout",
     "output_type": "stream",
     "text": [
      "Distancia promedio en millas: 2.98\n",
      "Tiempo promedio de viaje en minutos: 15.07\n"
     ]
    }
   ],
   "source": [
    "import pandas as pd\n",
    "import os\n",
    "\n",
    "file_path = os.path.join(\"..\", \"data\", \"processed\", \"tripdata_clean.csv\")\n",
    "df= pd.read_csv(file_path)\n",
    "\n",
    "# Calcular el promedio de las columnas\n",
    "distancia_promedio = df['trip_distance'].mean()\n",
    "tiempo_promedio_viaje = df['trip_duration_min'].mean()\n",
    "\n",
    "# Redondear resultados a 2 decimales\n",
    "distancia_promedio = round(distancia_promedio, 2)\n",
    "tiempo_promedio_viaje = round(tiempo_promedio_viaje, 2)\n",
    "\n",
    "# Mostrar resultados\n",
    "print(f\"Distancia promedio en millas: {distancia_promedio}\")\n",
    "print(f\"Tiempo promedio de viaje en minutos: {tiempo_promedio_viaje}\")"
   ]
  },
  {
   "cell_type": "markdown",
   "id": "aa007ea8",
   "metadata": {},
   "source": [
    "Consulta 2: Determina el método de pago más común y cuántos viajes lo usaron. "
   ]
  },
  {
   "cell_type": "code",
   "execution_count": 4,
   "id": "e6f97510",
   "metadata": {},
   "outputs": [
    {
     "name": "stdout",
     "output_type": "stream",
     "text": [
      "Método de pago más común: tarjeta de crédito\n",
      "Cantidad de viajes que usaron ese método: 4736318\n"
     ]
    }
   ],
   "source": [
    "import pandas as pd\n",
    "import os\n",
    "\n",
    "file_path = os.path.join(\"..\", \"data\", \"processed\", \"tripdata_clean.csv\")\n",
    "df = pd.read_csv(file_path)\n",
    "\n",
    "# Diccionario que traduce valores numéricos a nombres de métodos de pago\n",
    "metodos_pago_diccionario = {\n",
    "    1: 'tarjeta de crédito',\n",
    "    2: 'efectivo',\n",
    "    3: 'sin cargo',\n",
    "    4: 'en disputa',\n",
    "    5: 'desconocido',\n",
    "    6: 'viaje cancelado' \n",
    "}\n",
    "\n",
    "# Mapea los nombres de método de pago en la columna original y luego contar sus ocurrencias.\n",
    "conteo = df['payment_type'].map(metodos_pago_diccionario).value_counts()\n",
    "\n",
    "# Obtener método más común y cantidad de viajes que lo usaron\n",
    "metodo_mas_comun = conteo.idxmax()\n",
    "cantidad_viajes = conteo.max()\n",
    "\n",
    "print(f\"Método de pago más común: {metodo_mas_comun}\")\n",
    "print(f\"Cantidad de viajes que usaron ese método: {cantidad_viajes}\")"
   ]
  },
  {
   "cell_type": "markdown",
   "id": "8473e78a",
   "metadata": {},
   "source": [
    "Consulta 3: Calcula la propina promedio según el tipo de pago pero sólo para viajes donde la propina fue mayor que 0. "
   ]
  },
  {
   "cell_type": "code",
   "execution_count": 5,
   "id": "801bac57",
   "metadata": {},
   "outputs": [
    {
     "name": "stdout",
     "output_type": "stream",
     "text": [
      "       Método_de_pago  Propina_promedio\n",
      "0  tarjeta de crédito              3.25\n",
      "1            efectivo              2.90\n",
      "2           sin cargo              3.48\n",
      "3          en disputa              2.68\n"
     ]
    }
   ],
   "source": [
    "import pandas as pd\n",
    "import os\n",
    "\n",
    "file_path = os.path.join(\"..\", \"data\", \"processed\", \"tripdata_clean.csv\")\n",
    "df = pd.read_csv(file_path)\n",
    "\n",
    "# Diccionario que traduce valores numéricos a nombres de métodos de pago\n",
    "metodos_pago_dict = {\n",
    "    1: 'tarjeta de crédito',\n",
    "    2: 'efectivo',\n",
    "    3: 'sin cargo',\n",
    "    4: 'en disputa',\n",
    "    5: 'desconocido',\n",
    "    6: 'viaje cancelado' \n",
    "}\n",
    "\n",
    "# 1. se filtran los viajes con propina mayor a 0 y se calcula el promedio de propina por tipo de pago\n",
    "promedio_propina = (\n",
    "    df.loc[df['tip_amount'] > 0]\n",
    "      .groupby('payment_type')['tip_amount']\n",
    "      .mean()\n",
    ")\n",
    "\n",
    "# 2. se traducen los metodos de pago usando el diccionario\n",
    "promedio_propina = promedio_propina.rename(index=metodos_pago_dict)\n",
    "\n",
    "# 3. para un mejor orden se resetea el índice y se renombran las columnas \n",
    "# ademas de redondear a 2 decimales\n",
    "df_resultado = (\n",
    "    promedio_propina.round(2)\n",
    "    .reset_index()\n",
    "    .rename(columns={'payment_type': 'Método_de_pago', 'tip_amount': 'Propina_promedio'})\n",
    ")\n",
    "\n",
    "print(df_resultado)"
   ]
  },
  {
   "cell_type": "markdown",
   "id": "0bfa1317",
   "metadata": {},
   "source": [
    "consulta 4: Muestra el porcentaje de viajes correspondientes a cada tipo de tarifa, ordenado de mayor a menor participación. "
   ]
  },
  {
   "cell_type": "code",
   "execution_count": 6,
   "id": "bae8154a",
   "metadata": {},
   "outputs": [
    {
     "name": "stdout",
     "output_type": "stream",
     "text": [
      "                      Total_Viajes  Porcentaje_participación\n",
      "Tipo de Tarifa                                              \n",
      "Tarifa estandar            6402706                     96.78\n",
      "JFK                         171231                      2.59\n",
      "Tarifa negociada             18950                      0.29\n",
      "Newark                       17169                      0.26\n",
      "Nassau o Westchester          5106                      0.08\n",
      "Desconocido                    264                      0.00\n",
      "Tarifa grupal                   12                      0.00\n"
     ]
    }
   ],
   "source": [
    "import pandas as pd\n",
    "import os\n",
    "\n",
    "# Carga de datos (como la tienes definida)\n",
    "file_path = os.path.join(\"..\", \"data\", \"processed\", \"tripdata_clean.csv\")\n",
    "df = pd.read_csv(file_path)\n",
    "\n",
    "# 1. diccionario para mapear los códigos de tarifa a nombres legibles\n",
    "diccionario_tarifas = {\n",
    "    1: 'Tarifa estandar',\n",
    "    2: 'JFK',\n",
    "    3: 'Newark',    \n",
    "    4: 'Nassau o Westchester',\n",
    "    5: 'Tarifa negociada',\n",
    "    6: 'Tarifa grupal',\n",
    "    99: 'Desconocido'\n",
    "}\n",
    "\n",
    "# 2. contar la frecuencia de cada tipo de tarifa\n",
    "conteo_tarifas = df['ratecodeid'].value_counts()\n",
    "\n",
    "# 3. Cálculo del porcentaje de participación\n",
    "total_viajes = conteo_tarifas.sum()\n",
    "porcentaje_participación = (conteo_tarifas / total_viajes) * 100\n",
    "\n",
    "# 4. para facilitar la visualización\n",
    "# crear un DataFrame con los resultados y redondear el porcentaje a 2 decimales\n",
    "df_resultado = pd.DataFrame({\n",
    "    'Total_Viajes': conteo_tarifas,\n",
    "    'Porcentaje_participación': porcentaje_participación.round(2)\n",
    "})\n",
    "\n",
    "# 5. Aplicar el mapeo para mostrar el nombre legible de la tarifa\n",
    "df_resultado = df_resultado.rename(index=diccionario_tarifas)\n",
    "\n",
    "# 6. Ordenar por porcentaje de mayor a menor participación y renombrar el índice\n",
    "df_resultado = df_resultado.sort_values(by='Porcentaje_participación', ascending=False)\n",
    "df_resultado = df_resultado.rename_axis('Tipo de Tarifa')\n",
    "\n",
    "print(df_resultado)"
   ]
  },
  {
   "cell_type": "markdown",
   "id": "82ec2e01",
   "metadata": {},
   "source": [
    "consulta 5: \n",
    "Clasifica los viajes según su distancia (Trip_distance) en tres categorías: \n",
    "\n",
    "Corto: menos de 2 millas \n",
    "\n",
    "Medio: entre 2 y 10 millas \n",
    "\n",
    "Largo: más de 10 millas \n",
    "\n",
    "Muestra cuántos viajes hay en cada categoría. "
   ]
  },
  {
   "cell_type": "code",
   "execution_count": 7,
   "id": "2ce8cb43",
   "metadata": {},
   "outputs": [
    {
     "name": "stdout",
     "output_type": "stream",
     "text": [
      "  Categoría de Distancia  Número de Viajes\n",
      "0                  Corto           3926694\n",
      "1                  Medio           2295375\n",
      "2                  Largo            393369\n"
     ]
    }
   ],
   "source": [
    "import numpy as np\n",
    "import os\n",
    "\n",
    "file_path = os.path.join(\"..\", \"data\", \"processed\", \"tripdata_clean.csv\")\n",
    "df = pd.read_csv(file_path)\n",
    "\n",
    "# 1. Definir los límites y las etiquetas de las categorías\n",
    "limites_distancia = [0, 2.0, 10.0, float('inf')]\n",
    "etiquetas_distancia = ['Corto', 'Medio', 'Largo']\n",
    "\n",
    "# Definición de las condiciones\n",
    "condiciones = [\n",
    "    df['trip_distance'] < 2,                  # Corto: menos de 2 millas\n",
    "    (df['trip_distance'] >= 2) & (df['trip_distance'] <= 10), # Medio: entre 2 y 10 millas\n",
    "    df['trip_distance'] > 10                  # Largo: más de 10\n",
    "]\n",
    "\n",
    "# Crear la columna de categoría\n",
    "df['Categoria_Distancia'] = np.select(\n",
    "    condiciones,\n",
    "    etiquetas_distancia,\n",
    "    default='Desconocido' \n",
    ")\n",
    "\n",
    "# 3. Contar cuántos viajes hay en cada categoría\n",
    "conteo_categorias = df['Categoria_Distancia'].value_counts()\n",
    "\n",
    "# 4. resetear el índice para una mejor presentación\n",
    "df_conteo_categorias = conteo_categorias.reset_index()\n",
    "df_conteo_categorias.columns = ['Categoría de Distancia', 'Número de Viajes']\n",
    "\n",
    "\n",
    "print(df_conteo_categorias)"
   ]
  },
  {
   "cell_type": "markdown",
   "id": "023cb024",
   "metadata": {},
   "source": [
    "creacion del df para exportar los resultados a la app "
   ]
  },
  {
   "cell_type": "code",
   "execution_count": 10,
   "id": "9cb4012d",
   "metadata": {},
   "outputs": [
    {
     "name": "stdout",
     "output_type": "stream",
     "text": [
      "Archivo resultados_consolidados.csv creado con éxito en: c:\\Users\\vegas\\OneDrive\\Documentos\\GitHub\\nyc-taxi-demanda-2019\\data\\processed\\resultados_consolidados.csv\n"
     ]
    }
   ],
   "source": [
    "import pandas as pd\n",
    "import os\n",
    "\n",
    "# Crear el DataFrame con los resultados consolidados \n",
    "data = {\n",
    "    'ID_Consulta': [1, 1, 2, 2, 3, 3, 3, 3, 4, 4, 4, 4, 4, 4, 4, 5, 5, 5],\n",
    "    'Consulta': [\n",
    "        'Distancia promedio', 'tiempo promedio de viaje en minutos',\n",
    "        'Método de pago más común', 'Método de pago más común',\n",
    "        'Propina promedio según el tipo de pago (propina > 0)', 'Propina promedio según el tipo de pago (propina > 0)',\n",
    "        'Propina promedio según el tipo de pago (propina > 0)', 'Propina promedio según el tipo de pago (propina > 0)',\n",
    "        'Porcentaje de viajes correspondientes a cada tipo de tarifa', 'Porcentaje de viajes correspondientes a cada tipo de tarifa',\n",
    "        'Porcentaje de viajes correspondientes a cada tipo de tarifa', 'Porcentaje de viajes correspondientes a cada tipo de tarifa',\n",
    "        'Porcentaje de viajes correspondientes a cada tipo de tarifa', 'Porcentaje de viajes correspondientes a cada tipo de tarifa',\n",
    "        'Porcentaje de viajes correspondientes a cada tipo de tarifa',\n",
    "        'Conteo de viajes por categoría de distancia', 'Conteo de viajes por categoría de distancia', 'Conteo de viajes por categoría de distancia'\n",
    "    ],\n",
    "    'Etiqueta': [\n",
    "        'Distancia promedio', 'Tiempo promedio', \n",
    "        # Modificaciones para Consulta 2\n",
    "        'Método de pago más usado', 'Cantidad de viajes que lo usaron',\n",
    "        'tarjeta de crédito', 'efectivo', 'sin cargo', 'en disputa',\n",
    "        'Tarifa estandar', 'JFK', 'Tarifa negociada', 'Newark', 'Nassau o Westchester', 'Desconocido', 'Tarifa grupal',\n",
    "        'Corto', 'Medio', 'Largo'\n",
    "    ],\n",
    "    'Valor Numerico': [\n",
    "        2.98, 15.07, \n",
    "        # Modificaciones para Consulta 2\n",
    "        float('nan'), 4736318.00, # El valor numérico del Método de pago se establece como NaN\n",
    "        # Resto de valores\n",
    "        3.25, 2.90, 3.48, 2.68, 96.78, 2.59, 0.29, 0.26, 0.08, 0.00, 0.00, 3926694, 2295375, 393369\n",
    "    ],\n",
    "    'Unidad': [\n",
    "        'millas', 'minutos', \n",
    "        # Modificaciones para Consulta 2\n",
    "        'tarjeta de crédito', 'viajes', \n",
    "        # Resto de unidades\n",
    "        '$', '$', '$', '$', '%', '%', '%', '%', '%', '%', '%', 'viajes', 'viajes', 'viajes'\n",
    "    ]\n",
    "}\n",
    "df_resultados_consolidados = pd.DataFrame(data)\n",
    "\n",
    "\n",
    "# 1. Definir la ruta del directorio\n",
    "BASE_DIR = os.path.dirname(os.getcwd()) \n",
    "processed_dir = os.path.join(BASE_DIR, \"data\", \"processed\")\n",
    "\n",
    "# 2. Asegurar que la carpeta existe (por si acaso)\n",
    "os.makedirs(processed_dir, exist_ok=True)\n",
    "\n",
    "# Ruta final del archivo CSV\n",
    "output_path = os.path.join(processed_dir, \"resultados_consolidados.csv\")\n",
    "\n",
    "# 4. Guardar el DataFrame en la ruta especificada\n",
    "df_resultados_consolidados.to_csv(output_path, index=False)\n",
    "\n",
    "# imprimir resultado\n",
    "print(f\"Archivo resultados_consolidados.csv creado con éxito en: {output_path}\")"
   ]
  }
 ],
 "metadata": {
  "kernelspec": {
   "display_name": "Python 3",
   "language": "python",
   "name": "python3"
  },
  "language_info": {
   "codemirror_mode": {
    "name": "ipython",
    "version": 3
   },
   "file_extension": ".py",
   "mimetype": "text/x-python",
   "name": "python",
   "nbconvert_exporter": "python",
   "pygments_lexer": "ipython3",
   "version": "3.13.1"
  }
 },
 "nbformat": 4,
 "nbformat_minor": 5
}
