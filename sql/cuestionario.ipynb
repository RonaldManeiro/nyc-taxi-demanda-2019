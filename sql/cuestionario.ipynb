{
 "cells": [
  {
   "cell_type": "markdown",
   "id": "1544b9b7",
   "metadata": {},
   "source": [
    "consulta 1: Calcula la distancia promedio y el tiempo promedio de viaje en minutos para todos los viajes realizados en diciembre 2019"
   ]
  },
  {
   "cell_type": "code",
   "execution_count": 4,
   "id": "b11f4f61",
   "metadata": {},
   "outputs": [
    {
     "name": "stdout",
     "output_type": "stream",
     "text": [
      "Distancia promedio en millas: 2.98\n",
      "Tiempo promedio de viaje en minutos: 15.07\n"
     ]
    }
   ],
   "source": [
    "import pandas as pd\n",
    "import os\n",
    "\n",
    "file_path = os.path.join(\"..\", \"data\", \"processed\", \"tripdata_clean.csv\")\n",
    "df= pd.read_csv(file_path)\n",
    "\n",
    "# Calcular el promedio de las columnas\n",
    "distancia_promedio = df['trip_distance'].mean()\n",
    "tiempo_promedio_viaje = df['trip_duration_min'].mean()\n",
    "\n",
    "# Redondear resultados a 2 decimales\n",
    "distancia_promedio = round(distancia_promedio, 2)\n",
    "tiempo_promedio_viaje = round(tiempo_promedio_viaje, 2)\n",
    "\n",
    "# Mostrar resultados\n",
    "print(f\"Distancia promedio en millas: {distancia_promedio}\")\n",
    "print(f\"Tiempo promedio de viaje en minutos: {tiempo_promedio_viaje}\")"
   ]
  },
  {
   "cell_type": "markdown",
   "id": "aa007ea8",
   "metadata": {},
   "source": [
    "Consulta 2: Determina el método de pago más común y cuántos viajes lo usaron. "
   ]
  },
  {
   "cell_type": "code",
   "execution_count": 5,
   "id": "e6f97510",
   "metadata": {},
   "outputs": [
    {
     "name": "stdout",
     "output_type": "stream",
     "text": [
      "Método de pago más común: tarjeta de crédito\n",
      "Cantidad de viajes que usaron ese método: 4736318\n"
     ]
    }
   ],
   "source": [
    "import pandas as pd\n",
    "import os\n",
    "\n",
    "file_path = os.path.join(\"..\", \"data\", \"processed\", \"tripdata_clean.csv\")\n",
    "df = pd.read_csv(file_path)\n",
    "\n",
    "# Diccionario que traduce valores numéricos a nombres de métodos de pago\n",
    "metodos_pago_diccionario = {\n",
    "    1: 'tarjeta de crédito',\n",
    "    2: 'efectivo',\n",
    "    3: 'sin cargo',\n",
    "    4: 'en disputa',\n",
    "    5: 'desconocido',\n",
    "    6: 'viaje cancelado' \n",
    "}\n",
    "\n",
    "# Mapea los nombres de método de pago en la columna original y luego contar sus ocurrencias.\n",
    "conteo = df['payment_type'].map(metodos_pago_diccionario).value_counts()\n",
    "\n",
    "# Obtener método más común y cantidad de viajes que lo usaron\n",
    "metodo_mas_comun = conteo.idxmax()\n",
    "cantidad_viajes = conteo.max()\n",
    "\n",
    "print(f\"Método de pago más común: {metodo_mas_comun}\")\n",
    "print(f\"Cantidad de viajes que usaron ese método: {cantidad_viajes}\")"
   ]
  }
 ],
 "metadata": {
  "language_info": {
   "name": "python"
  }
 },
 "nbformat": 4,
 "nbformat_minor": 5
}
